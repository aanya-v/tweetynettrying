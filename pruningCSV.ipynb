{
 "cells": [
  {
   "cell_type": "markdown",
   "metadata": {},
   "source": [
    "Filter out short syllables from tweety net"
   ]
  },
  {
   "cell_type": "code",
   "execution_count": 6,
   "metadata": {},
   "outputs": [],
   "source": [
    "import pandas as pd\n",
    "\n",
    "# Load your TweetyNet .annot.csv file\n",
    "df = pd.read_csv(\"C:/Users/avusiri/vak_project/data/train/predict/aanyabr173gr56v3.annot.csv\")\n",
    "\n",
    "# Compute durations in milliseconds\n",
    "df[\"duration_ms\"] = (df[\"offset_s\"] - df[\"onset_s\"]) * 1000\n",
    "\n",
    "# Set a minimum duration threshold\n",
    "min_dur_ms = 25\n",
    "\n",
    "# Filter out syllables shorter than the threshold\n",
    "df_filtered = df[df[\"duration_ms\"] >= min_dur_ms].copy()\n",
    "\n",
    "# Drop the helper column\n",
    "df_filtered.drop(columns=\"duration_ms\", inplace=True)\n",
    "\n",
    "# Save filtered annotations to a new file\n",
    "df_filtered.to_csv(\"aanyabr173gr56v3_filtered.annot.csv\", index=False)\n"
   ]
  },
  {
   "cell_type": "markdown",
   "metadata": {},
   "source": [
    "Code to also relabel certain iterations of c to z (user preference)"
   ]
  },
  {
   "cell_type": "code",
   "execution_count": 7,
   "metadata": {},
   "outputs": [],
   "source": [
    "import pandas as pd\n",
    "\n",
    "# Load annotation CSV\n",
    "df = pd.read_csv(r\"C:\\Users\\avusiri\\vak_project\\data\\train\\predict\\aanyabr173gr56v3.annot.csv\")\n",
    "\n",
    "# Compute duration in milliseconds\n",
    "df[\"duration_ms\"] = (df[\"offset_s\"] - df[\"onset_s\"]) * 1000\n",
    "\n",
    "# Remove rows with duration < 25 ms\n",
    "df_filtered = df[df[\"duration_ms\"] >= 25].reset_index(drop=True)\n",
    "\n",
    "# Relabel 'c' to 'z' if the previous label is NOT 'b'\n",
    "for i in range(1, len(df_filtered)):\n",
    "    if df_filtered.loc[i, \"label\"] == \"c\" and df_filtered.loc[i - 1, \"label\"] != \"b\":\n",
    "        df_filtered.loc[i, \"label\"] = \"z\"\n",
    "\n",
    "# Save filtered and relabeled annotations\n",
    "df_filtered.drop(columns=\"duration_ms\", inplace=True)\n",
    "df_filtered.to_csv(r\"C:\\Users\\avusiri\\vak_project\\data\\train\\predict\\aanyabr173gr56v3_filtered.annot.csv\", index=False)\n"
   ]
  }
 ],
 "metadata": {
  "kernelspec": {
   "display_name": "vak310",
   "language": "python",
   "name": "python3"
  },
  "language_info": {
   "codemirror_mode": {
    "name": "ipython",
    "version": 3
   },
   "file_extension": ".py",
   "mimetype": "text/x-python",
   "name": "python",
   "nbconvert_exporter": "python",
   "pygments_lexer": "ipython3",
   "version": "3.10.16"
  }
 },
 "nbformat": 4,
 "nbformat_minor": 2
}
